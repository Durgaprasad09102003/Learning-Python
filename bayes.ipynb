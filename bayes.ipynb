{
 "cells": [
  {
   "cell_type": "code",
   "execution_count": 2,
   "id": "8f2f2538",
   "metadata": {},
   "outputs": [
    {
     "name": "stdout",
     "output_type": "stream",
     "text": [
      "urn A:\n",
      "enter no of red balls:5\n",
      "enter no of white balls:3\n",
      "urn B:\n",
      "enter no of red balls:2\n",
      "enter no of white balls:6\n",
      "conditional probability is 0.3333333333333333\n"
     ]
    }
   ],
   "source": [
    "#simulate Bayes theorem of random\n",
    "print(\"urn A:\")\n",
    "Ar=int(input(\"enter no of red balls:\"))\n",
    "Aw=int(input(\"enter no of white balls:\"))\n",
    "print(\"urn B:\")\n",
    "Br=int(input(\"enter no of red balls:\"))\n",
    "Bw=int(input(\"enter no of white balls:\"))\n",
    "def conditional_probability():\n",
    "    PA=1/2\n",
    "    PB=1/2\n",
    "    PAw=(PA*(Aw/(Aw+Ar)))/((PA*(Aw/(Aw+Ar)))+(PB*(Bw/(Bw+Br))))\n",
    "    print(\"conditional probability is\",PAw)\n",
    "conditional_probability()"
   ]
  },
  {
   "cell_type": "code",
   "execution_count": 3,
   "id": "2faeac02",
   "metadata": {},
   "outputs": [
    {
     "name": "stdout",
     "output_type": "stream",
     "text": [
      "enter the percentage of parts from supplier x20\n",
      "enter the percentage of parts from supplier y30\n",
      "enter the percentage of parts from supplier z40\n",
      "enter the percentage of defective of x2\n",
      "enter the percentage of defective of y3\n",
      "enter the percentage of defective of z4\n",
      "enter the supplierz\n",
      "the probability of defective one that is recieved from the supplier z is 0.5517241379310346\n"
     ]
    }
   ],
   "source": [
    "#simulation of bayes theorem for given event\n",
    "#defective part from given computer\n",
    "t1=int(input(\"enter the percentage of parts from supplier x\"))\n",
    "t2=int(input(\"enter the percentage of parts from supplier y\"))\n",
    "t3=int(input(\"enter the percentage of parts from supplier z\"))\n",
    "d1=int(input(\"enter the percentage of defective of x\"))\n",
    "d2=int(input(\"enter the percentage of defective of y\"))\n",
    "d3=int(input(\"enter the percentage of defective of z\"))\n",
    "pt1=t1/100\n",
    "pt2=t2/100\n",
    "pt3=t3/100\n",
    "pd1=d1/100\n",
    "pd2=d2/100\n",
    "pd3=d3/100\n",
    "pden=(pt1*pd1)+(pt2*pd2)+(pt3*pd3)\n",
    "def BT():\n",
    "    k=input(\"enter the supplier\")\n",
    "    if k==\"x\":\n",
    "       p=(pt1*pd1)/pden\n",
    "       print(\"the probability of defective one that is recieved from the supplier x is\",p)\n",
    "    elif k==\"y\":\n",
    "       p=(pt2*pd2)/pden\n",
    "       print(\"the probability of defective one that is recieved from the supplier y is\",p)\n",
    "    elif k==\"z\":\n",
    "       p=(pt3*pd3)/pden\n",
    "       print(\"the probability of defective one that is recieved from the supplier z is\",p)\n",
    "    else:\n",
    "       print(\"choose correctly\")\n",
    "       BT()\n",
    "\n",
    "BT()"
   ]
  },
  {
   "cell_type": "code",
   "execution_count": null,
   "id": "efa66fc4",
   "metadata": {},
   "outputs": [],
   "source": []
  }
 ],
 "metadata": {
  "kernelspec": {
   "display_name": "Python 3 (ipykernel)",
   "language": "python",
   "name": "python3"
  },
  "language_info": {
   "codemirror_mode": {
    "name": "ipython",
    "version": 3
   },
   "file_extension": ".py",
   "mimetype": "text/x-python",
   "name": "python",
   "nbconvert_exporter": "python",
   "pygments_lexer": "ipython3",
   "version": "3.9.7"
  }
 },
 "nbformat": 4,
 "nbformat_minor": 5
}
